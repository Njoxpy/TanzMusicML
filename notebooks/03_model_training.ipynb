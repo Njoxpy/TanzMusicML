{
 "cells": [
  {
   "cell_type": "code",
   "execution_count": null,
   "metadata": {},
   "outputs": [],
   "source": [
    "# import pandas library\n",
    "import pandas as pd\n",
    "from sklearn.tree import DecisionTreeClassifier\n",
    "\n",
    "# file path\n",
    "filePath = \"../data/raw/data.csv\"\n",
    "\n",
    "# import data\n",
    "data_za_mziki = pd.read_csv(filePath)\n",
    "\n",
    "# describe data\n",
    "# print(data_za_mziki.describe())\n",
    "\n",
    "# get dimensions(rows and columns of dataset)\n",
    "# print(data_za_mziki.shape)\n",
    "\n",
    "# tengeneza input features\n",
    "X = data_za_mziki.drop(columns=['Aina Ya Mziki'])\n",
    "\n",
    "# tengeneza target\n",
    "y = data_za_mziki['Aina Ya Mziki']\n",
    "# use decisionTreeClassifier to create instance\n",
    "model = DecisionTreeClassifier()\n",
    "model.fit(X, y)\n",
    "\n",
    "# predict\n",
    "utabiri = model.predict([[23, 0], [20, 1]])\n",
    "utabiri\n",
    "# data_za_mziki"
   ]
  }
 ],
 "metadata": {
  "language_info": {
   "name": "python"
  }
 },
 "nbformat": 4,
 "nbformat_minor": 2
}
