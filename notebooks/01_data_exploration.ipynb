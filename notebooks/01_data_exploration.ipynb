{
 "cells": [
  {
   "cell_type": "code",
   "execution_count": null,
   "metadata": {},
   "outputs": [],
   "source": [
    "# loading the data, visualizing distributions of features, examining correlations, and identifying any patterns or anomalies in the data.\n",
    "\n",
    "# import panda library\n",
    "import pandas as pd\n",
    "data_za_mziki = pd.read_csv(\"../data/raw/data.csv\")\n",
    "\n",
    "# data statistics rows, columns\n",
    "dataDescribe = data_za_mziki.describe()\n",
    "print(dataDescribe)\n",
    "\n",
    "# data rows and columns available\n",
    "dataShape = data_za_mziki.shape\n",
    "print(dataShape)\n",
    "\n",
    "\n"
   ]
  }
 ],
 "metadata": {
  "language_info": {
   "name": "python"
  }
 },
 "nbformat": 4,
 "nbformat_minor": 2
}
