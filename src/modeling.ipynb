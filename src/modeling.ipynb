# import pandas library
import pandas as pd

# load data/import data
mziki_data = pd.load_csv("data\raw\data.csv")