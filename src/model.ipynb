{
 "cells": [
  {
   "cell_type": "code",
   "execution_count": 153,
   "id": "9fb77cc3-4942-4b7c-9683-f6de79af856d",
   "metadata": {},
   "outputs": [],
   "source": [
    "# import pandas library\n",
    "import pandas as pd\n",
    "from sklearn.model_selection import train_test_split\n",
    "from sklearn.tree import DecisionTreeClassifier\n",
    "from sklearn.metrics import accuracy_score\n",
    "import joblib\n",
    "from sklearn import tree\n",
    "\n",
    "# file path\n",
    "filePath = \"../data/raw/data.csv\"\n",
    "\n",
    "# import data\n",
    "data_za_mziki = pd.read_csv(filePath)\n",
    "\n",
    "# describe data\n",
    "# print(data_za_mziki.describe())\n",
    "\n",
    "# get dimensions(rows and columns of dataset)\n",
    "# print(data_za_mziki.shape)\n",
    "\n",
    "# tengeneza input features\n",
    "X = data_za_mziki.drop(columns=['Aina Ya Mziki'])\n",
    "\n",
    "# tengeneza target\n",
    "y = data_za_mziki['Aina Ya Mziki']\n",
    "\n",
    "X_train , X_test, y_train, y_test = train_test_split(X, y, test_size = 0.2)\n",
    "# use decisionTreeClassifier to create instance\n",
    "model = DecisionTreeClassifier()\n",
    "model.fit(X_train, y_train)\n",
    "\n",
    "joblib.dump(model, 'tanz-music-ml.joblib')\n",
    "# predict\n",
    "utabiri = model.predict(X_test)\n",
    "\n",
    "# score = accuracy_score(y_test, utabiri)\n",
    "# score\n",
    "\n",
    "tree.export_graphviz(model, \n",
    "                     out_file='music-recommender.dot', \n",
    "                     feature_names=['miaka', 'jinsia'], \n",
    "                     class_names=y.unique(), \n",
    "                     label='all', \n",
    "                     rounded=True, \n",
    "                     filled=True)\n",
    "# data_za_mziki"
   ]
  }
 ],
 "metadata": {
  "kernelspec": {
   "display_name": "Python 3 (ipykernel)",
   "language": "python",
   "name": "python3"
  },
  "language_info": {
   "codemirror_mode": {
    "name": "ipython",
    "version": 3
   },
   "file_extension": ".py",
   "mimetype": "text/x-python",
   "name": "python",
   "nbconvert_exporter": "python",
   "pygments_lexer": "ipython3",
   "version": "3.11.7"
  }
 },
 "nbformat": 4,
 "nbformat_minor": 5
}
