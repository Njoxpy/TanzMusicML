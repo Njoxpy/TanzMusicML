{
 "cells": [
  {
   "cell_type": "code",
   "execution_count": 30,
   "id": "9fb77cc3-4942-4b7c-9683-f6de79af856d",
   "metadata": {},
   "outputs": [
    {
     "name": "stderr",
     "output_type": "stream",
     "text": [
      "C:\\Users\\Njox\\anaconda3\\Lib\\site-packages\\sklearn\\base.py:439: UserWarning: X does not have valid feature names, but DecisionTreeClassifier was fitted with feature names\n",
      "  warnings.warn(\n"
     ]
    },
    {
     "data": {
      "text/plain": [
       "array(['Gospel', 'R&B'], dtype=object)"
      ]
     },
     "execution_count": 30,
     "metadata": {},
     "output_type": "execute_result"
    }
   ],
   "source": [
    "# import pandas library\n",
    "import pandas as pd\n",
    "from sklearn.tree import DecisionTreeClassifier\n",
    "\n",
    "# file path\n",
    "filePath = \"../data/raw/data.csv\"\n",
    "\n",
    "# import data\n",
    "data_za_mziki = pd.read_csv(filePath)\n",
    "\n",
    "# describe data\n",
    "# print(data_za_mziki.describe())\n",
    "\n",
    "# get dimensions(rows and columns of dataset)\n",
    "# print(data_za_mziki.shape)\n",
    "\n",
    "# tengeneza input features\n",
    "X = data_za_mziki.drop(columns=['Aina Ya Mziki'])\n",
    "\n",
    "# tengeneza target\n",
    "y = data_za_mziki['Aina Ya Mziki']\n",
    "# use decisionTreeClassifier to create instance\n",
    "model = DecisionTreeClassifier()\n",
    "model.fit(X, y)\n",
    "\n",
    "# predict\n",
    "utabiri = model.predict([[23, 0], [24, 1]])\n",
    "utabiri\n",
    "# data_za_mziki"
   ]
  }
 ],
 "metadata": {
  "kernelspec": {
   "display_name": "Python 3 (ipykernel)",
   "language": "python",
   "name": "python3"
  },
  "language_info": {
   "codemirror_mode": {
    "name": "ipython",
    "version": 3
   },
   "file_extension": ".py",
   "mimetype": "text/x-python",
   "name": "python",
   "nbconvert_exporter": "python",
   "pygments_lexer": "ipython3",
   "version": "3.11.7"
  }
 },
 "nbformat": 4,
 "nbformat_minor": 5
}
